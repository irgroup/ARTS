{
 "cells": [
  {
   "cell_type": "code",
   "execution_count": null,
   "metadata": {},
   "outputs": [],
   "source": [
    "import os\n",
    "import pickle\n",
    "from utils import Text, apply_history, calc_percentage_agreement, calc_cohen_kappa, calc_kendallstau,  calc_rank_correlation, get_all_users, apply_ranking_to_scores, apply_scores, scale_scores, scale_ranked_scores, calc_rbo, calc_krippendorfs_alpha, calc_fleiss_kappa\n",
    "from sklearn import preprocessing\n",
    "import numpy as np\n",
    "import glob\n",
    "import re\n",
    "from datetime import datetime\n",
    "import matplotlib.pyplot as plt\n",
    "import pandas as pd\n",
    "\n",
    "from sklearn.metrics import cohen_kappa_score\n",
    "\n",
    "from collections import Counter"
   ]
  },
  {
   "cell_type": "code",
   "execution_count": null,
   "metadata": {},
   "outputs": [],
   "source": [
    "#load text data\n",
    "num_texts = 94\n",
    "\n",
    "data = pickle.load(open(f\"/workspace/data/ARTS_only_texts_{num_texts}.pkl\", \"rb\"))\n",
    "determined_pairs = pickle.load(open(f\"/workspace/data/determined_pairs_{num_texts*4}.pkl\", \"rb\"))"
   ]
  },
  {
   "cell_type": "code",
   "execution_count": null,
   "metadata": {},
   "outputs": [],
   "source": [
    "all_users = sorted(get_all_users())\n",
    "all_users"
   ]
  },
  {
   "cell_type": "code",
   "execution_count": null,
   "metadata": {},
   "outputs": [],
   "source": [
    "#build dictionary\n",
    "\n",
    "user1, user2 =\"Gold-94\", \"Rater1-94\"\n",
    "\n",
    "texts = {}\n",
    "texts[user1] = {t_id : Text(t_id, text[0]) for t_id, text in data.iterrows()}\n",
    "texts[user2] = {t_id : Text(t_id, text[0]) for t_id, text in data.iterrows()}\n",
    "\n",
    "\n",
    "histories = {}\n",
    "histories[user1] = pickle.load(open(f\"/workspace/Histories/{user1}_history.pkl\", \"rb\"))\n",
    "histories[user2] = pickle.load(open( f\"/workspace/Histories/{user2}_history.pkl\", \"rb\"))\n",
    "\n",
    "apply_history(histories[user1], texts[user1])\n",
    "apply_history(histories[user2], texts[user2])\n",
    "\n",
    "\n",
    "#if user only ranks, just apply scores to the texts\n",
    "#apply_ranking_to_scores(histories[user2], texts[user2])\n",
    "\n",
    "#if user only estimates individual scores for texts\n",
    "#apply_scores(histories[user2], texts[user2])"
   ]
  },
  {
   "cell_type": "code",
   "execution_count": null,
   "metadata": {},
   "outputs": [],
   "source": [
    "\n",
    "#%load_ext autoreload\n",
    "#%autoreload 2\n",
    "\n",
    "\n",
    "print(f\"Given the following users: {user1, user2}\")\n",
    "print(f\"Agreement percentage:\\t {round(calc_percentage_agreement(histories[user1], histories[user2]), 4)}\")\n",
    "print(f\"Cohens kappa: \\t\\t {round(calc_cohen_kappa(histories[user1],  histories[user2]),4)}\")\n",
    "\n",
    "\n",
    "print(\"-\"*70)\n",
    "\n",
    "stat, p_val_rank = calc_rank_correlation(texts[user1], texts[user2])\n",
    "print(f\"Rank correlation: \\t r={stat}, p-value={p_val_rank}\")\n",
    "\n",
    "tau, p_val_tau = calc_kendallstau(texts[user1], texts[user2])\n",
    "print(f\"Kendalls tau: \\t\\t t={tau}, p-value={p_val_tau}\")\n",
    "\n",
    "rbo = round(calc_rbo(texts[user1], texts[user2]), 4)\n",
    "print(f\"Rbo: \\t\\t\\t {rbo}\")"
   ]
  },
  {
   "cell_type": "code",
   "execution_count": null,
   "metadata": {},
   "outputs": [],
   "source": [
    "#time analysis\n",
    "decision_durations = []\n",
    "users = [user for user in all_users if not 'gpt' in user and not 'Gold' in user]\n",
    "for user in users:\n",
    "    for i in range(1, len(histories[user])):\n",
    "        d_start = datetime.strptime(histories[user][i-1][-1], \"%H:%M:%S\")\n",
    "        d_end = datetime.strptime(histories[user][i][-1], \"%H:%M:%S\")\n",
    "\n",
    "        decision_durations.append((d_end- d_start).total_seconds())"
   ]
  },
  {
   "cell_type": "code",
   "execution_count": null,
   "metadata": {},
   "outputs": [],
   "source": [
    "print(f\"Median effort for one annotation in secondes: {np.mean(decision_durations)}\")"
   ]
  },
  {
   "cell_type": "code",
   "execution_count": null,
   "metadata": {},
   "outputs": [],
   "source": [
    "#generating gold labels\n",
    "\n",
    "texts = {}\n",
    "histories = {}\n",
    "\n",
    "for user in users:\n",
    "    texts[user] = {t_id : Text(t_id, text[0]) for t_id, text in data.iterrows()}\n",
    "    histories[user] = pickle.load(open(f\"/workspace/{user}_history.pkl\", \"rb\"))\n",
    "    apply_history(histories[user], texts[user])\n",
    "\n",
    "#gold user\n",
    "texts['Gold'] = {t_id : Text(t_id, text[0]) for t_id, text in data.iterrows()}\n",
    "histories['Gold'] = {}\n",
    "\n",
    "for i in range(len(determined_pairs)):\n",
    "    #get user labels\n",
    "    user_labels = [histories[user][i][1] for user in users]\n",
    "    most_common = Counter(user_labels).most_common(1)[0][0]\n",
    "    histories['Gold'][i] = (determined_pairs[i], most_common, '00:00:00')"
   ]
  },
  {
   "cell_type": "code",
   "execution_count": null,
   "metadata": {},
   "outputs": [],
   "source": [
    "#pickle.dump(histories['Gold'], open(\"/workspace/Gold_history.pkl\", \"wb\"))"
   ]
  },
  {
   "cell_type": "code",
   "execution_count": null,
   "metadata": {},
   "outputs": [],
   "source": [
    "#analyse ira for users\n",
    "print(f\"krippendorfs alpha: {round(calc_krippendorfs_alpha(histories, determined_pairs), 4)}\")\n",
    "print(f\"fleiss kappa: {round(calc_fleiss_kappa(histories, determined_pairs), 4)}\")"
   ]
  },
  {
   "cell_type": "code",
   "execution_count": null,
   "metadata": {},
   "outputs": [],
   "source": [
    "#scaled_ranked_scores = scale_ranked_scores(texts[user1])\n",
    "#pickle.dump(scaled_ranked_scores, open(f\"/workspace/{user1}_scores.pkl\", \"wb\"))"
   ]
  },
  {
   "cell_type": "code",
   "execution_count": null,
   "metadata": {},
   "outputs": [],
   "source": [
    "#find cased with bad agreement\n",
    "all_votes = []\n",
    "for i in range(len(determined_pairs)):\n",
    "    votes = []\n",
    "    for user in users:\n",
    "        votes.append(histories[user][i][1])\n",
    "    \n",
    "    if votes.count(determined_pairs[i][0]) in [2,3]: \n",
    "        all_votes.append(((determined_pairs[i]), votes))\n"
   ]
  },
  {
   "cell_type": "code",
   "execution_count": null,
   "metadata": {},
   "outputs": [],
   "source": [
    "raw_scores = [texts[user1][key].get_rating() for key in texts[user1].keys()]"
   ]
  },
  {
   "cell_type": "code",
   "execution_count": null,
   "metadata": {},
   "outputs": [],
   "source": [
    "hard_pairs = []\n",
    "\n",
    "for vote in all_votes:\n",
    "    t1, t2 = vote[0]\n",
    "    hard_pairs.append([texts['Gold-94'][t1].get_text(), texts['Gold-94'][t2].get_text()])"
   ]
  },
  {
   "cell_type": "code",
   "execution_count": null,
   "metadata": {},
   "outputs": [],
   "source": [
    "pickle.dump(all_votes, open(\"/workspace/hard_cases_rater.pkl\", \"wb\"))"
   ]
  },
  {
   "cell_type": "code",
   "execution_count": null,
   "metadata": {},
   "outputs": [],
   "source": [
    "#find cases where gpt4 disagrees on gold labels\n",
    "disagrees_gpt = []\n",
    "for i in range(len(determined_pairs)):\n",
    "    if histories['Gold-94'][i][1] != histories['gpt-4-1106-preview-94'][i][1]:\n",
    "        disagrees_gpt.append(i)\n"
   ]
  },
  {
   "cell_type": "code",
   "execution_count": null,
   "metadata": {},
   "outputs": [],
   "source": [
    "#pickle.dump(disagrees_gpt, open(\"/workspace/disagrees_gpt.pkl\", \"wb\"))"
   ]
  },
  {
   "cell_type": "code",
   "execution_count": null,
   "metadata": {},
   "outputs": [],
   "source": [
    "scores = pickle.load(open(\"/workspace/Gold-94_Scores.pkl\", \"rb\"))"
   ]
  }
 ],
 "metadata": {
  "kernelspec": {
   "display_name": "Python 3",
   "language": "python",
   "name": "python3"
  },
  "language_info": {
   "codemirror_mode": {
    "name": "ipython",
    "version": 3
   },
   "file_extension": ".py",
   "mimetype": "text/x-python",
   "name": "python",
   "nbconvert_exporter": "python",
   "pygments_lexer": "ipython3",
   "version": "3.8.18"
  }
 },
 "nbformat": 4,
 "nbformat_minor": 2
}
