{
 "cells": [
  {
   "cell_type": "code",
   "execution_count": null,
   "metadata": {},
   "outputs": [],
   "source": [
    "from langchain import PromptTemplate\n",
    "from langchain.schema.output_parser import StrOutputParser\n",
    "from langchain_openai import ChatOpenAI\n",
    "from dotenv import load_dotenv\n",
    "import os\n",
    "import pickle\n",
    "from utils import Text, apply_history\n",
    "from datetime import datetime\n",
    "from tqdm import tqdm"
   ]
  },
  {
   "cell_type": "code",
   "execution_count": null,
   "metadata": {},
   "outputs": [],
   "source": [
    "import langchain\n",
    "langchain.debug = True"
   ]
  },
  {
   "cell_type": "code",
   "execution_count": null,
   "metadata": {},
   "outputs": [],
   "source": [
    "#load text data\n",
    "data = pickle.load(open(\"/workspace/data/ARTS_only_texts_94.pkl\", \"rb\"))\n",
    "determined_pairs = pickle.load(open(\"/workspace/data/determined_pairs_376.pkl\", \"rb\"))\n",
    "\n",
    "texts = {t_id : Text(t_id, text[0]) for t_id, text in data.iterrows()}"
   ]
  },
  {
   "cell_type": "code",
   "execution_count": null,
   "metadata": {},
   "outputs": [],
   "source": [
    "load_dotenv(\"/workspace/.env\")\n",
    "OPENAI_API_KEY = os.environ.get(\"OPENAI_API_KEY\")"
   ]
  },
  {
   "cell_type": "code",
   "execution_count": null,
   "metadata": {},
   "outputs": [],
   "source": [
    "prompt_template = \"\"\"\n",
    "I will present you a text, and I want you to score its simplicity between 0 and 1. \n",
    "A text that is very easy to understand should receive a score of 0.0; a very challenging text should have a score of approximately 1.0. The following guidelines should be taken into account for the decision: \n",
    "Imagine you are writing an exam where you are allowed to google and where the task is to understand the given text.\n",
    "Keep in mind the following criteria for the simplicity of a text:\n",
    "Generation of cognitive load, time to understand, confidence to answer questions about, difficulty to reformulate without changing the meaning.\n",
    "The text to score is delimited by ```\n",
    "\n",
    "       Text:\n",
    "       ```\n",
    "       {TEXT}\n",
    "       ```\n",
    "\n",
    "       The answer should only contain a number between 0 and 1.\n",
    "       Please answer without any further text, just one number with high precision.\n",
    "\"\"\"\n"
   ]
  },
  {
   "cell_type": "code",
   "execution_count": null,
   "metadata": {},
   "outputs": [],
   "source": [
    "model_name = \"gpt-4-1106-preview\"\n",
    "#model_name = \"gpt-3.5-turbo-1106\""
   ]
  },
  {
   "cell_type": "code",
   "execution_count": null,
   "metadata": {},
   "outputs": [],
   "source": [
    "prompt= PromptTemplate(template=prompt_template, input_variables=[\"TEXT\"])\n",
    "model = ChatOpenAI(temperature=0, model=model_name)\n",
    "output_parser = StrOutputParser()\n",
    "\n",
    "chain = prompt | model | output_parser"
   ]
  },
  {
   "cell_type": "code",
   "execution_count": null,
   "metadata": {},
   "outputs": [],
   "source": [
    "gpt_history = {}"
   ]
  },
  {
   "cell_type": "code",
   "execution_count": null,
   "metadata": {},
   "outputs": [],
   "source": [
    "match_id = 0\n",
    "with tqdm(total=len(texts)) as pbar:\n",
    "    for i, text in texts.items():\n",
    "        system_time = datetime.now().strftime(\"%H:%M:%S\")\n",
    "\n",
    "        text = text.get_text()\n",
    "\n",
    "        res = chain.invoke({\"TEXT\": text})\n",
    "\n",
    "        entry = (text, res, system_time)\n",
    "        gpt_history[match_id] = entry\n",
    "        match_id+=1\n",
    "        pbar.update(1)"
   ]
  },
  {
   "cell_type": "code",
   "execution_count": null,
   "metadata": {},
   "outputs": [],
   "source": [
    "path = f\"/workspace/{model_name}_individual_history.pkl\"\n",
    "pickle.dump(gpt_history, open(path, \"wb\"))"
   ]
  }
 ],
 "metadata": {
  "kernelspec": {
   "display_name": "Python 3",
   "language": "python",
   "name": "python3"
  },
  "language_info": {
   "codemirror_mode": {
    "name": "ipython",
    "version": 3
   },
   "file_extension": ".py",
   "mimetype": "text/x-python",
   "name": "python",
   "nbconvert_exporter": "python",
   "pygments_lexer": "ipython3",
   "version": "3.8.18"
  }
 },
 "nbformat": 4,
 "nbformat_minor": 2
}
