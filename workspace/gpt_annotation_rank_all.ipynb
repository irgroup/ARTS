{
 "cells": [
  {
   "cell_type": "code",
   "execution_count": null,
   "metadata": {},
   "outputs": [],
   "source": [
    "from langchain import PromptTemplate\n",
    "from langchain.schema.output_parser import StrOutputParser\n",
    "from langchain_openai import ChatOpenAI\n",
    "from dotenv import load_dotenv\n",
    "import os\n",
    "import pickle\n",
    "from utils import Text, apply_history\n",
    "from datetime import datetime\n",
    "from tqdm import tqdm"
   ]
  },
  {
   "cell_type": "code",
   "execution_count": null,
   "metadata": {},
   "outputs": [],
   "source": [
    "import langchain\n",
    "langchain.debug = True"
   ]
  },
  {
   "cell_type": "code",
   "execution_count": null,
   "metadata": {},
   "outputs": [],
   "source": [
    "#load text data\n",
    "data = pickle.load(open(\"/workspace/data/ARTS_only_texts_94.pkl\", \"rb\"))\n",
    "determined_pairs = pickle.load(open(\"/workspace/data/determined_pairs_376.pkl\", \"rb\"))\n",
    "\n",
    "texts = {t_id : Text(t_id, text[0]) for t_id, text in data.iterrows()}"
   ]
  },
  {
   "cell_type": "code",
   "execution_count": null,
   "metadata": {},
   "outputs": [],
   "source": [
    "load_dotenv(\"/workspace/.env\")\n",
    "OPENAI_API_KEY = os.environ.get(\"OPENAI_API_KEY\")"
   ]
  },
  {
   "cell_type": "code",
   "execution_count": null,
   "metadata": {},
   "outputs": [],
   "source": [
    "def build_dyn_prompt(texts):\n",
    "    texts_str = \"\"\n",
    "    for key in texts.keys():\n",
    "        text_str = f\"text id {key}: ```\" + \"{Text_\" + str(key) + \"} ``` \\n \"\n",
    "        texts_str += text_str\n",
    "\n",
    "    return texts_str"
   ]
  },
  {
   "cell_type": "code",
   "execution_count": null,
   "metadata": {},
   "outputs": [],
   "source": [
    "prompt_template = \"\"\"\n",
    "I will present you with a numbered list of texts. It is important that each text has a corresponding id. \n",
    "I would like you to give me back a sorted list of these ids. The criterion for the sorting should be the simplicity of the texts. \n",
    "Please use the following guidelines to evaluate the simplicity of the texts: \n",
    "Imagine you are writing an exam where you are allowed to google and where the task the given texts.\n",
    "Which of the texts: generates less cognitive load?, can you understand more quickly?, are you more confident to answer questions about?, is easier for you to reformulate without changing the meaning?\n",
    "The texts will be delimited by ````\n",
    "\n",
    "\n",
    "\"\"\" + build_dyn_prompt(texts) + \"\"\"\n",
    "\n",
    "       The answer should only be a list of ids sorted by simplicity. Please answer without any further text.\n",
    "\"\"\"\n"
   ]
  },
  {
   "cell_type": "code",
   "execution_count": null,
   "metadata": {},
   "outputs": [],
   "source": [
    "model_name = \"gpt-4-1106-preview\"\n",
    "#model_name = \"gpt-3.5-turbo-1106\""
   ]
  },
  {
   "cell_type": "code",
   "execution_count": null,
   "metadata": {},
   "outputs": [],
   "source": [
    "input_variables = [f\"Text_{text.get_t_id()}\" for _, text in texts.items()]"
   ]
  },
  {
   "cell_type": "code",
   "execution_count": null,
   "metadata": {},
   "outputs": [],
   "source": [
    "prompt= PromptTemplate(template=prompt_template, input_variables=input_variables)\n",
    "model = ChatOpenAI(temperature=0, model=model_name)\n",
    "output_parser = StrOutputParser()\n",
    "\n",
    "chain = prompt | model | output_parser"
   ]
  },
  {
   "cell_type": "code",
   "execution_count": null,
   "metadata": {},
   "outputs": [],
   "source": [
    "id_text_dict = {f\"Text_{text.get_t_id()}\" : text.get_text() for _, text in texts.items()}"
   ]
  },
  {
   "cell_type": "code",
   "execution_count": null,
   "metadata": {},
   "outputs": [],
   "source": [
    "#invoke\n",
    "res = chain.invoke(id_text_dict)"
   ]
  },
  {
   "cell_type": "code",
   "execution_count": null,
   "metadata": {},
   "outputs": [],
   "source": [
    "autoranking = [int(id_) for id_ in res.split(\",\")]"
   ]
  },
  {
   "cell_type": "code",
   "execution_count": null,
   "metadata": {},
   "outputs": [],
   "source": [
    "path = f\"/workspace/{model_name}_auto_ranking_history.pkl\"\n",
    "pickle.dump(autoranking, open(path, \"wb\"))"
   ]
  }
 ],
 "metadata": {
  "kernelspec": {
   "display_name": "Python 3",
   "language": "python",
   "name": "python3"
  },
  "language_info": {
   "codemirror_mode": {
    "name": "ipython",
    "version": 3
   },
   "file_extension": ".py",
   "mimetype": "text/x-python",
   "name": "python",
   "nbconvert_exporter": "python",
   "pygments_lexer": "ipython3",
   "version": "3.8.18"
  }
 },
 "nbformat": 4,
 "nbformat_minor": 2
}
