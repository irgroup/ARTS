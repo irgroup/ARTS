{
 "cells": [
  {
   "cell_type": "code",
   "execution_count": 1,
   "metadata": {},
   "outputs": [],
   "source": [
    "import pickle\n",
    "import random\n",
    "from sklearn.ensemble import GradientBoostingRegressor, RandomForestRegressor\n",
    "from sklearn.metrics import mean_squared_error\n",
    "from sklearn.metrics import mean_absolute_error\n",
    "from sklearn.metrics import r2_score"
   ]
  },
  {
   "cell_type": "code",
   "execution_count": 49,
   "metadata": {},
   "outputs": [],
   "source": [
    "def load_ARTS_data(dims):\n",
    "    X = []\n",
    "    y = []\n",
    "\n",
    "    if dims == 94:\n",
    "        path_X = f\"/workspace/data/ARTS_94_small_embeddings.pkl\"        \n",
    "        path_y = f\"/workspace/data/arts94_gold16_scores.pkl\"        \n",
    "    if dims == 300:\n",
    "        path_X = f\"/workspace/data/ARTS_300_small_embeddings.pkl\"        \n",
    "        path_y = f\"/workspace/data/gpt-4-1106-preview-300_scores.pkl\"        \n",
    "    if dims == 3000:\n",
    "        path_X = f\"/workspace/data/ARTS_3000_small_embeddings.pkl\"        \n",
    "        path_y = f\"/workspace/data/gpt-4-1106-preview-3000_scores.pkl\"        \n",
    "\n",
    "    X_labels = pickle.load(open(path_X, \"rb\"))\n",
    "    y_labels = pickle.load(open(path_y, \"rb\"))\n",
    "\n",
    "    for entry in X_labels['gpt_embedding']:\n",
    "        X.append([number for number in entry])\n",
    "    \n",
    "    for i in range(len(X)):\n",
    "        y.append(y_labels[i][0])\n",
    "\n",
    "    return X, y"
   ]
  },
  {
   "cell_type": "code",
   "execution_count": 53,
   "metadata": {},
   "outputs": [],
   "source": [
    "reg_gb = GradientBoostingRegressor(random_state=42)\n",
    "reg_rf = RandomForestRegressor(random_state=42)\n",
    "\n",
    "#regs = {'reg_gb': reg_gb, 'reg_rf': reg_rf, 'reg_mlp': reg_mlp}\n",
    "regs = {'reg_rf': reg_rf}"
   ]
  },
  {
   "cell_type": "code",
   "execution_count": 54,
   "metadata": {},
   "outputs": [],
   "source": [
    "model = 3000\n",
    "predict = 94\n",
    "\n",
    "# versions of trained models\n",
    "if model == 94:\n",
    "    X_ta, y_ta = load_ARTS_data(94)\n",
    "    reg_model = reg_gb.fit(X_ta, y_ta)\n",
    "if model == 300:\n",
    "    X_ta, y_ta = load_ARTS_data(300)\n",
    "    reg_model = reg_gb.fit(X_ta, y_ta)\n",
    "if model == 3000:\n",
    "    X_ta, y_ta = load_ARTS_data(3000)\n",
    "    reg_model = reg_gb.fit(X_ta, y_ta)\n",
    "\n",
    "# versions of predicted data\n",
    "if predict == 94:\n",
    "    arts_X, gold_y = load_ARTS_data(94)\n",
    "    pred_y = reg_model.predict(arts_X)\n",
    "if predict == 300:\n",
    "    arts_X, gold_y = load_ARTS_data(300)\n",
    "    pred_y = reg_model.predict(arts_X)\n",
    "if predict == 3000:\n",
    "    arts_X, gold_y = load_ARTS_data(3000)\n",
    "    pred_y = reg_model.predict(arts_X)"
   ]
  },
  {
   "cell_type": "code",
   "execution_count": 60,
   "metadata": {},
   "outputs": [
    {
     "name": "stdout",
     "output_type": "stream",
     "text": [
      "0.16834230733703207\n",
      "-0.7216220278123342\n"
     ]
    }
   ],
   "source": [
    "# baselines\n",
    "bls = [0.5] * len(gold_y)\n",
    "blr = []\n",
    "for i in range(len(gold_y)):\n",
    "    blr.append(random.random())\n",
    "\n",
    "# comparision of gold labels with predicted or baseline values\n",
    "comp = blr\n",
    "\n",
    "print(mean_squared_error(gold_y, comp))\n",
    "\n",
    "print(r2_score(gold_y, comp))"
   ]
  }
 ],
 "metadata": {
  "kernelspec": {
   "display_name": "Python 3",
   "language": "python",
   "name": "python3"
  },
  "language_info": {
   "codemirror_mode": {
    "name": "ipython",
    "version": 3
   },
   "file_extension": ".py",
   "mimetype": "text/x-python",
   "name": "python",
   "nbconvert_exporter": "python",
   "pygments_lexer": "ipython3",
   "version": "3.8.18"
  }
 },
 "nbformat": 4,
 "nbformat_minor": 2
}
